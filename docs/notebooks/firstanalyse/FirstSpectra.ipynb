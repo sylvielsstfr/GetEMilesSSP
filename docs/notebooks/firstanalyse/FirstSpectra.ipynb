{
 "cells": [
  {
   "cell_type": "markdown",
   "id": "72879fc6-46be-4651-af34-3b2f6bd58381",
   "metadata": {},
   "source": [
    "# First view of Spectra"
   ]
  },
  {
   "cell_type": "markdown",
   "id": "19f8d0a4-a926-4330-8507-e68ac5a11d33",
   "metadata": {},
   "source": [
    "    Author : Sylvie Dagoret-Campagne\n",
    "    creation date : 2024-01-25\n",
    "    last update : 2024-01-25\n",
    "    affiliation : IJCLab/IN2P3/CNRS"
   ]
  },
  {
   "cell_type": "code",
   "execution_count": null,
   "id": "725054dc-041e-40b8-9dd5-414e7290eb95",
   "metadata": {},
   "outputs": [],
   "source": [
    "import matplotlib.pyplot as plt\n",
    "import matplotlib as mpl\n",
    "import matplotlib.dates as mdates\n",
    "import numpy as np\n",
    "import pandas as pd\n",
    "import matplotlib.gridspec as gridspec\n",
    "import os,sys\n",
    "\n",
    "#%matplotlib widget \n",
    "import h5py\n",
    "from scipy import interpolate\n",
    "from astropy.time import Time\n",
    "\n",
    "import matplotlib.ticker\n",
    "%matplotlib inline\n",
    "\n",
    "import astropy\n",
    "from astropy.io import fits"
   ]
  },
  {
   "cell_type": "code",
   "execution_count": null,
   "id": "7b843792-6452-4b1d-b269-e7ccadef7dc8",
   "metadata": {},
   "outputs": [],
   "source": [
    "plt.rcParams[\"figure.figsize\"] = (18,8)\n",
    "plt.rcParams[\"axes.labelsize\"] = 'xx-large'\n",
    "plt.rcParams['axes.titlesize'] = 'xx-large'\n",
    "plt.rcParams['xtick.labelsize']= 'xx-large'\n",
    "plt.rcParams['ytick.labelsize']= 'xx-large'\n",
    "plt.rcParams['legend.fontsize']=  12\n",
    "plt.rcParams['font.size'] = 12"
   ]
  },
  {
   "cell_type": "code",
   "execution_count": null,
   "id": "2cf5fdb6-5c2b-4a61-a1f9-ea1572cfda75",
   "metadata": {},
   "outputs": [],
   "source": [
    "path = \"../../../src/getemilessp/data/output_webtool/2024-01-25/tmp1dOeik\" "
   ]
  },
  {
   "cell_type": "code",
   "execution_count": null,
   "id": "c7a39f53-0316-4889-8c96-83aa1bd427de",
   "metadata": {},
   "outputs": [],
   "source": [
    "file_list = os.listdir(path)"
   ]
  },
  {
   "cell_type": "code",
   "execution_count": null,
   "id": "7235333e-7be9-4446-bb27-8057ea022ded",
   "metadata": {},
   "outputs": [],
   "source": [
    "fullfilename = [os.path.join(path,filename) for filename in file_list ]"
   ]
  },
  {
   "cell_type": "code",
   "execution_count": null,
   "id": "721a60c9-75b0-4f36-b8c5-329bb884ab29",
   "metadata": {},
   "outputs": [],
   "source": [
    "fullfilename"
   ]
  },
  {
   "cell_type": "code",
   "execution_count": null,
   "id": "304013da-e594-4920-a677-b02f64994830",
   "metadata": {},
   "outputs": [],
   "source": [
    "#fits_table_filename = fits.util.get_testdata_filepath(fullfilename[0])"
   ]
  },
  {
   "cell_type": "code",
   "execution_count": null,
   "id": "5941a84e-7131-423c-9d49-d92be5925c57",
   "metadata": {},
   "outputs": [],
   "source": [
    "hdul0 = fits.open(fullfilename[0]) \n",
    "hdul1 = fits.open(fullfilename[1]) "
   ]
  },
  {
   "cell_type": "code",
   "execution_count": null,
   "id": "8add44d4-f454-428d-8213-bf2c19410557",
   "metadata": {},
   "outputs": [],
   "source": [
    "hdul0.info()"
   ]
  },
  {
   "cell_type": "code",
   "execution_count": null,
   "id": "2abec0ae-a146-4bfc-91ba-5fd716ebcd53",
   "metadata": {},
   "outputs": [],
   "source": [
    "data0 = hdul0[0].data \n",
    "data1 = hdul1[0].data "
   ]
  },
  {
   "cell_type": "code",
   "execution_count": null,
   "id": "27d28000-2f4d-4ec9-9965-a7858f248a2e",
   "metadata": {},
   "outputs": [],
   "source": [
    "data0"
   ]
  },
  {
   "cell_type": "code",
   "execution_count": null,
   "id": "b94066c6-1a3d-4aae-a15d-0fb498273b47",
   "metadata": {},
   "outputs": [],
   "source": [
    "plt.plot(data0)\n",
    "plt.plot(data1)"
   ]
  },
  {
   "cell_type": "code",
   "execution_count": null,
   "id": "ca2b9185-86ad-40f4-ba69-87dd5e340e18",
   "metadata": {},
   "outputs": [],
   "source": []
  }
 ],
 "metadata": {
  "kernelspec": {
   "display_name": "conda_jaxcpu_dsps_py310",
   "language": "python",
   "name": "conda_jaxcpu_dsps_py310"
  },
  "language_info": {
   "codemirror_mode": {
    "name": "ipython",
    "version": 3
   },
   "file_extension": ".py",
   "mimetype": "text/x-python",
   "name": "python",
   "nbconvert_exporter": "python",
   "pygments_lexer": "ipython3",
   "version": "3.10.13"
  }
 },
 "nbformat": 4,
 "nbformat_minor": 5
}
